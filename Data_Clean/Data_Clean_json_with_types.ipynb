{
 "cells": [
  {
   "cell_type": "code",
   "execution_count": 98,
   "metadata": {},
   "outputs": [],
   "source": [
    "import pandas as pd\n",
    "import json"
   ]
  },
  {
   "cell_type": "markdown",
   "metadata": {},
   "source": [
    "## Open every Google_Attraction\n",
    "This is from Wenli Zou's data"
   ]
  },
  {
   "cell_type": "code",
   "execution_count": 99,
   "metadata": {},
   "outputs": [],
   "source": [
    "def collect_Google_Attraction_from_list():\n",
    "    files = [\n",
    "            'AmusementPark','Aquarium','ArtGallery',\n",
    "            'Casino','Museum','Park',\n",
    "            'ShoppingMall','thingsToDoInNewYork','Zoo'\n",
    "            ]\n",
    "    Google_dict = {}\n",
    "    for file in files:\n",
    "        if file not in Google_dict.keys():\n",
    "            with open('./Google_Attraction_List/' + file + '.json') as json_data:\n",
    "                Google_dict[str('Google_Attraction_'+ file)] = json.load(json_data)\n",
    "    return Google_dict"
   ]
  },
  {
   "cell_type": "markdown",
   "metadata": {},
   "source": [
    "## Reformat Google_Attraction"
   ]
  },
  {
   "cell_type": "code",
   "execution_count": 100,
   "metadata": {},
   "outputs": [],
   "source": [
    "def f_Google_list (Google_dict):\n",
    "    formatted_Google_dict = {}\n",
    "    for file in Google_dict.keys():\n",
    "        if file not in formatted_Google_dict.keys():\n",
    "            file_name = str('formatted_' + file)\n",
    "            formatted_Google_dict[file_name] = pd.DataFrame()\n",
    "            name = []\n",
    "            formatted_address = []\n",
    "            id_a = []\n",
    "            place_id = []\n",
    "            rating = []\n",
    "            types = []\n",
    "            lat = []\n",
    "            lng = []\n",
    "            for one_level in Google_dict[file]['results']:\n",
    "                for two_level in one_level.keys():\n",
    "                    if two_level == 'id':\n",
    "                        id_a.append(one_level[two_level])\n",
    "                    if two_level == 'place_id':\n",
    "                        place_id.append(one_level[two_level])\n",
    "                    if two_level == 'name':\n",
    "                        name.append(one_level[two_level])\n",
    "                    if two_level == 'formatted_address':\n",
    "                        formatted_address.append(one_level[two_level])\n",
    "                    if two_level == 'rating':\n",
    "                        rating.append(one_level[two_level])\n",
    "                    if two_level == 'types':\n",
    "                        myString = \", \".join(map(str, one_level[two_level]))\n",
    "                        types.append(myString)\n",
    "                    if two_level == 'geometry':\n",
    "                        geometry = one_level[two_level]\n",
    "                        lat.append(geometry['location']['lat'])\n",
    "                        lng.append(geometry['location']['lng'])\n",
    "            formatted_Google_dict[file_name]['name'] = name\n",
    "            formatted_Google_dict[file_name]['formatted_address'] = formatted_address\n",
    "            formatted_Google_dict[file_name]['rating'] = rating\n",
    "            formatted_Google_dict[file_name]['types'] = types\n",
    "            formatted_Google_dict[file_name]['lat'] = lat\n",
    "            formatted_Google_dict[file_name]['lng'] = lng\n",
    "            formatted_Google_dict[file_name]['id'] = id_a\n",
    "            formatted_Google_dict[file_name]['place_id'] = place_id\n",
    "    return formatted_Google_dict"
   ]
  },
  {
   "cell_type": "markdown",
   "metadata": {},
   "source": [
    "## Merge Yelp location\n",
    "Yelp location could be messed up because some of the restaurants have extra information about location"
   ]
  },
  {
   "cell_type": "code",
   "execution_count": 101,
   "metadata": {},
   "outputs": [],
   "source": [
    "def merge_location_Yelp(Yelp):\n",
    "    for i,each_line in Yelp.iterrows():\n",
    "        if each_line.location__address2 == each_line.location__address2:\n",
    "            each_line.location__address1 = str(each_line.location__address1) + ', ' + str(each_line.location__address2) + ', ' + str(each_line.location__city) + ', ' + str(each_line.location__state) + ' ' + str(int(each_line.location__zip_code)) + ', ' + str(each_line.location__country)\n",
    "            Yelp.at[i,'location__address1'] = each_line.location__address1\n",
    "        if each_line.location__address3 == each_line.location__address3:\n",
    "            each_line.location__address1 = str(each_line.location__address1) + ', ' + str(each_line.location__address2) + ', ' + str(each_line.location__city) + ', ' + str(each_line.location__state) + ' ' + str(int(each_line.location__zip_code)) + ', ' + str(each_line.location__country)\n",
    "            Yelp.at[i,'location__address1'] = each_line.location__address1\n",
    "#         if (each_line.hours__open__start == each_line.hours__open__start) and (each_line.hours__open__end == each_line.hours__open__end):\n",
    "#             each_line.hours__open__start = str(int(each_line.hours__open__start)) + '-' + str(int(each_line.hours__open__end))\n",
    "#             Yelp.at[i,'hours__open__start'] = str(each_line.hours__open__start)\n",
    "    if 'location__address2' and 'location__address3':\n",
    "        Yelp.drop(columns = ['location__address2','location__address3'],inplace = True)\n",
    "    return Yelp\n",
    "        "
   ]
  },
  {
   "cell_type": "markdown",
   "metadata": {},
   "source": [
    "## Reformat Yelp\n",
    "Yelp:\n",
    "\n",
    "id, name, location__address1+location__city+location__state+location__zip_code+location__country, coordinates__latitude, coordinates__longitude, hours__open__start + hours__open__end, rating, categories__title\n",
    "\n",
    "attraction__id,attraction__name, attraction__formatted__address, attraction__location__lat, attraction__location__lng, attraction__opening__hours, attraction__rating, results__type"
   ]
  },
  {
   "cell_type": "code",
   "execution_count": 102,
   "metadata": {},
   "outputs": [],
   "source": [
    "def f_Yelp (Yelp):\n",
    "    col_f_Yelp = [\n",
    "        'attraction__id','attraction__name', 'attraction__formatted__address', \n",
    "        'attraction__location__lat', 'attraction__location__lng', 'attraction__opening__hours', \n",
    "        'attraction__rating', 'results__type'\n",
    "    ]\n",
    "    col_o_Yelp = [\n",
    "        'id','name',' location__address1',\n",
    "        'coordinates__latitude','coordinates__longitude',\n",
    "        'hours__open__start','rating','categories__title'\n",
    "    ]\n",
    "    formatted_Yelp = pd.DataFrame()\n",
    "    n = 0\n",
    "    for col_name in col_o_Yelp:\n",
    "        if col_name in Yelp.columns:\n",
    "            formatted_Yelp[col_f_Yelp[n]] = Yelp[col_name].values\n",
    "        n += 1\n",
    "    return formatted_Yelp\n",
    "            "
   ]
  },
  {
   "cell_type": "markdown",
   "metadata": {},
   "source": [
    "Just Get the Yelp Data, and eliminate some columns"
   ]
  },
  {
   "cell_type": "code",
   "execution_count": 105,
   "metadata": {},
   "outputs": [],
   "source": [
    "colDropYelp = [\n",
    "    'transactions__001',\n",
    "    'transactions__002',\n",
    "    'transactions__003',\n",
    "    'location__display_address__003',\n",
    "    'location__display_address__002',\n",
    "    'location__display_address__001'\n",
    "]\n",
    "Yelp = pd.read_csv('./Yelp_Data/outputfile.csv').dropna(subset=['id']).drop(columns = colDropYelp,axis=1)"
   ]
  },
  {
   "cell_type": "code",
   "execution_count": 106,
   "metadata": {},
   "outputs": [],
   "source": [
    "if __name__ == '__main__':\n",
    "    merge_location_Yelp(Yelp)\n",
    "    f_Yelp(Yelp).to_csv('./Data_Cleaned/formatted_Yelp.csv')\n",
    "    Google_dict = collect_Google_Attraction_from_list()\n",
    "#     for item in Google_dict.keys():\n",
    "#         merge_types_GoogleAttraction(Google_dict[item])\n",
    "    formatted_Google_dict = f_Google_list(Google_dict)\n",
    "    for item in formatted_Google_dict.keys():\n",
    "        formatted_Google_dict[item].to_csv('./Data_Cleaned/'+item+'.csv')"
   ]
  }
 ],
 "metadata": {
  "kernelspec": {
   "display_name": "Python 3",
   "language": "python",
   "name": "python3"
  },
  "language_info": {
   "codemirror_mode": {
    "name": "ipython",
    "version": 3
   },
   "file_extension": ".py",
   "mimetype": "text/x-python",
   "name": "python",
   "nbconvert_exporter": "python",
   "pygments_lexer": "ipython3",
   "version": "3.6.5"
  }
 },
 "nbformat": 4,
 "nbformat_minor": 2
}
