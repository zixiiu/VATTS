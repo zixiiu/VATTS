{
 "cells": [
  {
   "cell_type": "code",
   "execution_count": 375,
   "metadata": {},
   "outputs": [],
   "source": [
    "import pandas as pd"
   ]
  },
  {
   "cell_type": "markdown",
   "metadata": {},
   "source": [
    "## Merge Yelp location\n",
    "Yelp location could be messed up because some of the restaurants have extra information about location"
   ]
  },
  {
   "cell_type": "code",
   "execution_count": 376,
   "metadata": {},
   "outputs": [],
   "source": [
    "def merge_location_Yelp(Yelp):\n",
    "    for i,each_line in Yelp.iterrows():\n",
    "        if each_line.location__address2 == each_line.location__address2:\n",
    "            each_line.location__address1 = str(each_line.location__address1) + ', ' + str(each_line.location__address2) + ', ' + str(each_line.location__city) + ', ' + str(each_line.location__state) + ' ' + str(int(each_line.location__zip_code)) + ', ' + str(each_line.location__country)\n",
    "            Yelp.at[i,'location__address1'] = each_line.location__address1\n",
    "        if each_line.location__address3 == each_line.location__address3:\n",
    "            each_line.location__address1 = str(each_line.location__address1) + ', ' + str(each_line.location__address2) + ', ' + str(each_line.location__city) + ', ' + str(each_line.location__state) + ' ' + str(int(each_line.location__zip_code)) + ', ' + str(each_line.location__country)\n",
    "            Yelp.at[i,'location__address1'] = each_line.location__address1\n",
    "#         if (each_line.hours__open__start == each_line.hours__open__start) and (each_line.hours__open__end == each_line.hours__open__end):\n",
    "#             each_line.hours__open__start = str(int(each_line.hours__open__start)) + '-' + str(int(each_line.hours__open__end))\n",
    "#             Yelp.at[i,'hours__open__start'] = str(each_line.hours__open__start)\n",
    "    if 'location__address2' and 'location__address3':\n",
    "        Yelp.drop(columns = ['location__address2','location__address3'],inplace = True)\n",
    "    return Yelp\n",
    "        "
   ]
  },
  {
   "cell_type": "markdown",
   "metadata": {},
   "source": [
    "## Merge Google_Attraction type\n",
    "Google attractions have multiple types with one attraction"
   ]
  },
  {
   "cell_type": "code",
   "execution_count": 377,
   "metadata": {},
   "outputs": [],
   "source": [
    "def merge_types_GoogleAttraction(Google_Attraction):\n",
    "    if 'results__types__003' and 'results__types__002' in Google_Attraction.columns:\n",
    "        for i,each_line in Google_Attraction.iterrows():\n",
    "            if each_line.results__types__003 == each_line.results__types__003:\n",
    "                each_line.results__types__001 = each_line.results__types__001 + ', ' + each_line.results__types__002 + ', ' + each_line.results__types__003\n",
    "            elif each_line.results__types__002 == each_line.results__types__002:\n",
    "                each_line.results__types__001 = each_line.results__types__001 + ', ' + each_line.results__types__002\n",
    "            Google_Attraction.at[i,'results__types__001'] = each_line['results__types__001']\n",
    "        if 'results__types__003' and 'results__types__002' in Google_Attraction.columns:\n",
    "            Google_Attraction.drop(columns=['results__types__003','results__types__002'],inplace = True)\n",
    "    return Google_Attraction"
   ]
  },
  {
   "cell_type": "markdown",
   "metadata": {},
   "source": [
    "## Open every Google_Attraction\n",
    "We have many google attractions data, so this is for automatically open data file one by one"
   ]
  },
  {
   "cell_type": "code",
   "execution_count": 378,
   "metadata": {},
   "outputs": [],
   "source": [
    "def collect_GoogleAttraction():\n",
    "    files = [\n",
    "            'AmusementPark','Aquarium','ArtGallery',\n",
    "            'Casino','Museum','Park',\n",
    "            'ShoppingMall','thingsToDoInNewYork','Zoo'\n",
    "            ]\n",
    "    Google_dict = {}\n",
    "    for file in files:\n",
    "        if file not in Google_dict.keys():\n",
    "            Google_dict[str('Google_Attraction_'+ file)] = pd.read_json('./Google_Attraction_Detail/'+ file + '.json')\n",
    "    return Google_dict"
   ]
  },
  {
   "cell_type": "markdown",
   "metadata": {},
   "source": [
    "## Reformat Google_Attraction"
   ]
  },
  {
   "cell_type": "code",
   "execution_count": 383,
   "metadata": {},
   "outputs": [],
   "source": [
    "def f_Google_dict (Google_dict):\n",
    "    formatted_Google_dict = {}\n",
    "    for file in Google_dict.keys():\n",
    "        if file not in formatted_Google_dict.keys():\n",
    "            file_name = str('formatted_' + file)\n",
    "            formatted_Google_dict[file_name] = pd.DataFrame()\n",
    "            for item in Google_dict[file].keys():\n",
    "                if item != 'geometry' and item != 'opening_hours':\n",
    "                    formatted_Google_dict[file_name][item] = Google_dict[file][item].values\n",
    "                elif item == 'geometry':\n",
    "                    geometry = Google_dict[file][item].values\n",
    "                    lat = []\n",
    "                    lng = []\n",
    "                    for coord in geometry:\n",
    "                        lat.append(coord['location']['lat'])\n",
    "                        lng.append(coord['location']['lng'])\n",
    "                    formatted_Google_dict[file_name]['lat'] = lat\n",
    "                    formatted_Google_dict[file_name]['lng'] = lng\n",
    "#                 elif item == 'opening_hours':\n",
    "#                     opening_hours = Google_dict[file][item]\n",
    "#                     for time_item in opening_hours:\n",
    "#                         for each_day in time_item['periods']:\n",
    "#                             if type(each_day) != 'float':\n",
    "#                                 for open_close in each_day:\n",
    "#                                     operation_hours = ''\n",
    "#                                     operation_hours = 'day' + str(each_day[open_close]['day']) + '_' + open_close\n",
    "#                                     formatted_Google_dict[file_name][openning_hours] = each_day[open_close]['time']\n",
    "                \n",
    "    return formatted_Google_dict\n",
    "    "
   ]
  },
  {
   "cell_type": "markdown",
   "metadata": {},
   "source": [
    "## Reformat Yelp\n",
    "Yelp:\n",
    "\n",
    "id, name, location__address1+location__city+location__state+location__zip_code+location__country, coordinates__latitude, coordinates__longitude, hours__open__start + hours__open__end, rating, categories__title\n",
    "\n",
    "attraction__id,attraction__name, attraction__formatted__address, attraction__location__lat, attraction__location__lng, attraction__opening__hours, attraction__rating, results__type"
   ]
  },
  {
   "cell_type": "code",
   "execution_count": 380,
   "metadata": {},
   "outputs": [],
   "source": [
    "def f_Yelp (Yelp):\n",
    "    col_f_Yelp = [\n",
    "        'attraction__id','attraction__name', 'attraction__formatted__address', \n",
    "        'attraction__location__lat', 'attraction__location__lng', 'attraction__opening__hours', \n",
    "        'attraction__rating', 'results__type'\n",
    "    ]\n",
    "    col_o_Yelp = [\n",
    "        'id','name',' location__address1',\n",
    "        'coordinates__latitude','coordinates__longitude',\n",
    "        'hours__open__start','rating','categories__title'\n",
    "    ]\n",
    "    formatted_Yelp = pd.DataFrame()\n",
    "    n = 0\n",
    "    for col_name in col_o_Yelp:\n",
    "        if col_name in Yelp.columns:\n",
    "            formatted_Yelp[col_f_Yelp[n]] = Yelp[col_name].values\n",
    "        n += 1\n",
    "    return formatted_Yelp\n",
    "            "
   ]
  },
  {
   "cell_type": "markdown",
   "metadata": {},
   "source": [
    "Just Get the Yelp Data, and eliminate some columns"
   ]
  },
  {
   "cell_type": "code",
   "execution_count": 384,
   "metadata": {},
   "outputs": [],
   "source": [
    "colDropYelp = [\n",
    "    'transactions__001',\n",
    "    'transactions__002',\n",
    "    'transactions__003',\n",
    "    'location__display_address__003',\n",
    "    'location__display_address__002',\n",
    "    'location__display_address__001'\n",
    "]\n",
    "Yelp = pd.read_csv('./Yelp_Data/outputfile.csv').dropna(subset=['id']).drop(columns = colDropYelp,axis=1)"
   ]
  },
  {
   "cell_type": "code",
   "execution_count": 385,
   "metadata": {},
   "outputs": [],
   "source": [
    "if __name__ == '__main__':\n",
    "    merge_location_Yelp(Yelp)\n",
    "    f_Yelp(Yelp).to_csv('./Data_Cleaned/formatted_Yelp.csv')\n",
    "    Google_dict = collect_GoogleAttraction()\n",
    "#     for item in Google_dict.keys():\n",
    "#         merge_types_GoogleAttraction(Google_dict[item])\n",
    "    formatted_Google_dict = f_Google_dict(Google_dict)\n",
    "    for item in formatted_Google_dict.keys():\n",
    "        formatted_Google_dict[item].to_csv('./Data_Cleaned/'+item+'.csv')"
   ]
  },
  {
   "cell_type": "markdown",
   "metadata": {},
   "source": [
    "## Next thing is to get the data into frame according to our requirement\n",
    "Google attraction time from json\n",
    "\n",
    "Monday: 10:00 AM – 5:00 PM\n",
    "Tuesday: 10:00 AM – 5:00 PM\n",
    "Wednesday: 10:00 AM – 5:00 PM\n",
    "Thursday: 10:00 AM – 5:00 PM\n",
    "Friday: 10:00 AM – 5:00 PM\n",
    "Saturday: 10:00 AM – 5:30 PM\n",
    "Sunday: 10:00 AM – 5:30 PM\n",
    "\n",
    "day0_close,day0_open\n",
    "\n",
    "Yelp time from csv\n",
    "\n",
    "column from Monday to Friday"
   ]
  }
 ],
 "metadata": {
  "kernelspec": {
   "display_name": "Python 3",
   "language": "python",
   "name": "python3"
  },
  "language_info": {
   "codemirror_mode": {
    "name": "ipython",
    "version": 3
   },
   "file_extension": ".py",
   "mimetype": "text/x-python",
   "name": "python",
   "nbconvert_exporter": "python",
   "pygments_lexer": "ipython3",
   "version": "3.6.5"
  }
 },
 "nbformat": 4,
 "nbformat_minor": 2
}
